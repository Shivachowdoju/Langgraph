{
  "nbformat": 4,
  "nbformat_minor": 0,
  "metadata": {
    "colab": {
      "provenance": [],
      "authorship_tag": "ABX9TyO2/3YCHL4YZ24sZrzk3lqJ",
      "include_colab_link": true
    },
    "kernelspec": {
      "name": "python3",
      "display_name": "Python 3"
    },
    "language_info": {
      "name": "python"
    }
  },
  "cells": [
    {
      "cell_type": "markdown",
      "metadata": {
        "id": "view-in-github",
        "colab_type": "text"
      },
      "source": [
        "<a href=\"https://colab.research.google.com/github/Shivachowdoju/Langgraph/blob/main/Tutorial1_LangGraph_ChatBot.ipynb\" target=\"_parent\"><img src=\"https://colab.research.google.com/assets/colab-badge.svg\" alt=\"Open In Colab\"/></a>"
      ]
    },
    {
      "cell_type": "code",
      "execution_count": 1,
      "metadata": {
        "colab": {
          "base_uri": "https://localhost:8080/"
        },
        "id": "XK0ZlIR-tU5D",
        "outputId": "401365b0-5579-403c-cd53-3de75aa3e6ce"
      },
      "outputs": [
        {
          "output_type": "stream",
          "name": "stdout",
          "text": [
            "Collecting langgraph\n",
            "  Downloading langgraph-0.2.5-py3-none-any.whl.metadata (13 kB)\n",
            "Collecting langsmith\n",
            "  Downloading langsmith-0.1.101-py3-none-any.whl.metadata (13 kB)\n",
            "Collecting langchain-core<0.3,>=0.2.27 (from langgraph)\n",
            "  Downloading langchain_core-0.2.33-py3-none-any.whl.metadata (6.2 kB)\n",
            "Collecting langgraph-checkpoint<2.0.0,>=1.0.2 (from langgraph)\n",
            "  Downloading langgraph_checkpoint-1.0.3-py3-none-any.whl.metadata (4.6 kB)\n",
            "Collecting httpx<1,>=0.23.0 (from langsmith)\n",
            "  Downloading httpx-0.27.0-py3-none-any.whl.metadata (7.2 kB)\n",
            "Collecting orjson<4.0.0,>=3.9.14 (from langsmith)\n",
            "  Downloading orjson-3.10.7-cp310-cp310-manylinux_2_17_x86_64.manylinux2014_x86_64.whl.metadata (50 kB)\n",
            "\u001b[2K     \u001b[90m━━━━━━━━━━━━━━━━━━━━━━━━━━━━━━━━━━━━━━━━\u001b[0m \u001b[32m50.4/50.4 kB\u001b[0m \u001b[31m1.5 MB/s\u001b[0m eta \u001b[36m0:00:00\u001b[0m\n",
            "\u001b[?25hRequirement already satisfied: pydantic<3,>=1 in /usr/local/lib/python3.10/dist-packages (from langsmith) (2.8.2)\n",
            "Requirement already satisfied: requests<3,>=2 in /usr/local/lib/python3.10/dist-packages (from langsmith) (2.32.3)\n",
            "Requirement already satisfied: anyio in /usr/local/lib/python3.10/dist-packages (from httpx<1,>=0.23.0->langsmith) (3.7.1)\n",
            "Requirement already satisfied: certifi in /usr/local/lib/python3.10/dist-packages (from httpx<1,>=0.23.0->langsmith) (2024.7.4)\n",
            "Collecting httpcore==1.* (from httpx<1,>=0.23.0->langsmith)\n",
            "  Downloading httpcore-1.0.5-py3-none-any.whl.metadata (20 kB)\n",
            "Requirement already satisfied: idna in /usr/local/lib/python3.10/dist-packages (from httpx<1,>=0.23.0->langsmith) (3.7)\n",
            "Requirement already satisfied: sniffio in /usr/local/lib/python3.10/dist-packages (from httpx<1,>=0.23.0->langsmith) (1.3.1)\n",
            "Collecting h11<0.15,>=0.13 (from httpcore==1.*->httpx<1,>=0.23.0->langsmith)\n",
            "  Downloading h11-0.14.0-py3-none-any.whl.metadata (8.2 kB)\n",
            "Requirement already satisfied: PyYAML>=5.3 in /usr/local/lib/python3.10/dist-packages (from langchain-core<0.3,>=0.2.27->langgraph) (6.0.2)\n",
            "Collecting jsonpatch<2.0,>=1.33 (from langchain-core<0.3,>=0.2.27->langgraph)\n",
            "  Downloading jsonpatch-1.33-py2.py3-none-any.whl.metadata (3.0 kB)\n",
            "Requirement already satisfied: packaging<25,>=23.2 in /usr/local/lib/python3.10/dist-packages (from langchain-core<0.3,>=0.2.27->langgraph) (24.1)\n",
            "Collecting tenacity!=8.4.0,<9.0.0,>=8.1.0 (from langchain-core<0.3,>=0.2.27->langgraph)\n",
            "  Downloading tenacity-8.5.0-py3-none-any.whl.metadata (1.2 kB)\n",
            "Requirement already satisfied: typing-extensions>=4.7 in /usr/local/lib/python3.10/dist-packages (from langchain-core<0.3,>=0.2.27->langgraph) (4.12.2)\n",
            "Requirement already satisfied: annotated-types>=0.4.0 in /usr/local/lib/python3.10/dist-packages (from pydantic<3,>=1->langsmith) (0.7.0)\n",
            "Requirement already satisfied: pydantic-core==2.20.1 in /usr/local/lib/python3.10/dist-packages (from pydantic<3,>=1->langsmith) (2.20.1)\n",
            "Requirement already satisfied: charset-normalizer<4,>=2 in /usr/local/lib/python3.10/dist-packages (from requests<3,>=2->langsmith) (3.3.2)\n",
            "Requirement already satisfied: urllib3<3,>=1.21.1 in /usr/local/lib/python3.10/dist-packages (from requests<3,>=2->langsmith) (2.0.7)\n",
            "Collecting jsonpointer>=1.9 (from jsonpatch<2.0,>=1.33->langchain-core<0.3,>=0.2.27->langgraph)\n",
            "  Downloading jsonpointer-3.0.0-py2.py3-none-any.whl.metadata (2.3 kB)\n",
            "Requirement already satisfied: exceptiongroup in /usr/local/lib/python3.10/dist-packages (from anyio->httpx<1,>=0.23.0->langsmith) (1.2.2)\n",
            "Downloading langgraph-0.2.5-py3-none-any.whl (82 kB)\n",
            "\u001b[2K   \u001b[90m━━━━━━━━━━━━━━━━━━━━━━━━━━━━━━━━━━━━━━━━\u001b[0m \u001b[32m82.2/82.2 kB\u001b[0m \u001b[31m5.0 MB/s\u001b[0m eta \u001b[36m0:00:00\u001b[0m\n",
            "\u001b[?25hDownloading langsmith-0.1.101-py3-none-any.whl (148 kB)\n",
            "\u001b[2K   \u001b[90m━━━━━━━━━━━━━━━━━━━━━━━━━━━━━━━━━━━━━━━━\u001b[0m \u001b[32m148.9/148.9 kB\u001b[0m \u001b[31m8.2 MB/s\u001b[0m eta \u001b[36m0:00:00\u001b[0m\n",
            "\u001b[?25hDownloading httpx-0.27.0-py3-none-any.whl (75 kB)\n",
            "\u001b[2K   \u001b[90m━━━━━━━━━━━━━━━━━━━━━━━━━━━━━━━━━━━━━━━━\u001b[0m \u001b[32m75.6/75.6 kB\u001b[0m \u001b[31m4.6 MB/s\u001b[0m eta \u001b[36m0:00:00\u001b[0m\n",
            "\u001b[?25hDownloading httpcore-1.0.5-py3-none-any.whl (77 kB)\n",
            "\u001b[2K   \u001b[90m━━━━━━━━━━━━━━━━━━━━━━━━━━━━━━━━━━━━━━━━\u001b[0m \u001b[32m77.9/77.9 kB\u001b[0m \u001b[31m3.6 MB/s\u001b[0m eta \u001b[36m0:00:00\u001b[0m\n",
            "\u001b[?25hDownloading langchain_core-0.2.33-py3-none-any.whl (391 kB)\n",
            "\u001b[2K   \u001b[90m━━━━━━━━━━━━━━━━━━━━━━━━━━━━━━━━━━━━━━━━\u001b[0m \u001b[32m391.5/391.5 kB\u001b[0m \u001b[31m18.6 MB/s\u001b[0m eta \u001b[36m0:00:00\u001b[0m\n",
            "\u001b[?25hDownloading langgraph_checkpoint-1.0.3-py3-none-any.whl (15 kB)\n",
            "Downloading orjson-3.10.7-cp310-cp310-manylinux_2_17_x86_64.manylinux2014_x86_64.whl (141 kB)\n",
            "\u001b[2K   \u001b[90m━━━━━━━━━━━━━━━━━━━━━━━━━━━━━━━━━━━━━━━━\u001b[0m \u001b[32m141.9/141.9 kB\u001b[0m \u001b[31m8.2 MB/s\u001b[0m eta \u001b[36m0:00:00\u001b[0m\n",
            "\u001b[?25hDownloading jsonpatch-1.33-py2.py3-none-any.whl (12 kB)\n",
            "Downloading tenacity-8.5.0-py3-none-any.whl (28 kB)\n",
            "Downloading h11-0.14.0-py3-none-any.whl (58 kB)\n",
            "\u001b[2K   \u001b[90m━━━━━━━━━━━━━━━━━━━━━━━━━━━━━━━━━━━━━━━━\u001b[0m \u001b[32m58.3/58.3 kB\u001b[0m \u001b[31m3.8 MB/s\u001b[0m eta \u001b[36m0:00:00\u001b[0m\n",
            "\u001b[?25hDownloading jsonpointer-3.0.0-py2.py3-none-any.whl (7.6 kB)\n",
            "Installing collected packages: tenacity, orjson, jsonpointer, h11, jsonpatch, httpcore, httpx, langsmith, langchain-core, langgraph-checkpoint, langgraph\n",
            "  Attempting uninstall: tenacity\n",
            "    Found existing installation: tenacity 9.0.0\n",
            "    Uninstalling tenacity-9.0.0:\n",
            "      Successfully uninstalled tenacity-9.0.0\n",
            "Successfully installed h11-0.14.0 httpcore-1.0.5 httpx-0.27.0 jsonpatch-1.33 jsonpointer-3.0.0 langchain-core-0.2.33 langgraph-0.2.5 langgraph-checkpoint-1.0.3 langsmith-0.1.101 orjson-3.10.7 tenacity-8.5.0\n"
          ]
        }
      ],
      "source": [
        "!pip install langgraph langsmith"
      ]
    },
    {
      "cell_type": "code",
      "source": [
        "!pip install langchain_groq langchain_community"
      ],
      "metadata": {
        "colab": {
          "base_uri": "https://localhost:8080/"
        },
        "id": "e6A8gyN1tm04",
        "outputId": "c63a7902-5d2f-4c70-80fe-4f3c8c1b0a50"
      },
      "execution_count": 3,
      "outputs": [
        {
          "output_type": "stream",
          "name": "stdout",
          "text": [
            "Collecting langchain_groq\n",
            "  Using cached langchain_groq-0.1.9-py3-none-any.whl.metadata (2.9 kB)\n",
            "Collecting langchain_community\n",
            "  Downloading langchain_community-0.2.12-py3-none-any.whl.metadata (2.7 kB)\n",
            "Collecting groq<1,>=0.4.1 (from langchain_groq)\n",
            "  Downloading groq-0.9.0-py3-none-any.whl.metadata (13 kB)\n",
            "Requirement already satisfied: langchain-core<0.3.0,>=0.2.26 in /usr/local/lib/python3.10/dist-packages (from langchain_groq) (0.2.33)\n",
            "Requirement already satisfied: PyYAML>=5.3 in /usr/local/lib/python3.10/dist-packages (from langchain_community) (6.0.2)\n",
            "Requirement already satisfied: SQLAlchemy<3,>=1.4 in /usr/local/lib/python3.10/dist-packages (from langchain_community) (2.0.32)\n",
            "Requirement already satisfied: aiohttp<4.0.0,>=3.8.3 in /usr/local/lib/python3.10/dist-packages (from langchain_community) (3.10.3)\n",
            "Collecting dataclasses-json<0.7,>=0.5.7 (from langchain_community)\n",
            "  Downloading dataclasses_json-0.6.7-py3-none-any.whl.metadata (25 kB)\n",
            "Collecting langchain<0.3.0,>=0.2.13 (from langchain_community)\n",
            "  Downloading langchain-0.2.14-py3-none-any.whl.metadata (7.1 kB)\n",
            "Requirement already satisfied: langsmith<0.2.0,>=0.1.0 in /usr/local/lib/python3.10/dist-packages (from langchain_community) (0.1.101)\n",
            "Requirement already satisfied: numpy<2,>=1 in /usr/local/lib/python3.10/dist-packages (from langchain_community) (1.26.4)\n",
            "Requirement already satisfied: requests<3,>=2 in /usr/local/lib/python3.10/dist-packages (from langchain_community) (2.32.3)\n",
            "Requirement already satisfied: tenacity!=8.4.0,<9.0.0,>=8.1.0 in /usr/local/lib/python3.10/dist-packages (from langchain_community) (8.5.0)\n",
            "Requirement already satisfied: aiohappyeyeballs>=2.3.0 in /usr/local/lib/python3.10/dist-packages (from aiohttp<4.0.0,>=3.8.3->langchain_community) (2.3.5)\n",
            "Requirement already satisfied: aiosignal>=1.1.2 in /usr/local/lib/python3.10/dist-packages (from aiohttp<4.0.0,>=3.8.3->langchain_community) (1.3.1)\n",
            "Requirement already satisfied: attrs>=17.3.0 in /usr/local/lib/python3.10/dist-packages (from aiohttp<4.0.0,>=3.8.3->langchain_community) (24.2.0)\n",
            "Requirement already satisfied: frozenlist>=1.1.1 in /usr/local/lib/python3.10/dist-packages (from aiohttp<4.0.0,>=3.8.3->langchain_community) (1.4.1)\n",
            "Requirement already satisfied: multidict<7.0,>=4.5 in /usr/local/lib/python3.10/dist-packages (from aiohttp<4.0.0,>=3.8.3->langchain_community) (6.0.5)\n",
            "Requirement already satisfied: yarl<2.0,>=1.0 in /usr/local/lib/python3.10/dist-packages (from aiohttp<4.0.0,>=3.8.3->langchain_community) (1.9.4)\n",
            "Requirement already satisfied: async-timeout<5.0,>=4.0 in /usr/local/lib/python3.10/dist-packages (from aiohttp<4.0.0,>=3.8.3->langchain_community) (4.0.3)\n",
            "Collecting marshmallow<4.0.0,>=3.18.0 (from dataclasses-json<0.7,>=0.5.7->langchain_community)\n",
            "  Downloading marshmallow-3.22.0-py3-none-any.whl.metadata (7.2 kB)\n",
            "Collecting typing-inspect<1,>=0.4.0 (from dataclasses-json<0.7,>=0.5.7->langchain_community)\n",
            "  Downloading typing_inspect-0.9.0-py3-none-any.whl.metadata (1.5 kB)\n",
            "Requirement already satisfied: anyio<5,>=3.5.0 in /usr/local/lib/python3.10/dist-packages (from groq<1,>=0.4.1->langchain_groq) (3.7.1)\n",
            "Requirement already satisfied: distro<2,>=1.7.0 in /usr/lib/python3/dist-packages (from groq<1,>=0.4.1->langchain_groq) (1.7.0)\n",
            "Requirement already satisfied: httpx<1,>=0.23.0 in /usr/local/lib/python3.10/dist-packages (from groq<1,>=0.4.1->langchain_groq) (0.27.0)\n",
            "Requirement already satisfied: pydantic<3,>=1.9.0 in /usr/local/lib/python3.10/dist-packages (from groq<1,>=0.4.1->langchain_groq) (2.8.2)\n",
            "Requirement already satisfied: sniffio in /usr/local/lib/python3.10/dist-packages (from groq<1,>=0.4.1->langchain_groq) (1.3.1)\n",
            "Requirement already satisfied: typing-extensions<5,>=4.7 in /usr/local/lib/python3.10/dist-packages (from groq<1,>=0.4.1->langchain_groq) (4.12.2)\n",
            "Collecting langchain-text-splitters<0.3.0,>=0.2.0 (from langchain<0.3.0,>=0.2.13->langchain_community)\n",
            "  Downloading langchain_text_splitters-0.2.2-py3-none-any.whl.metadata (2.1 kB)\n",
            "Requirement already satisfied: jsonpatch<2.0,>=1.33 in /usr/local/lib/python3.10/dist-packages (from langchain-core<0.3.0,>=0.2.26->langchain_groq) (1.33)\n",
            "Requirement already satisfied: packaging<25,>=23.2 in /usr/local/lib/python3.10/dist-packages (from langchain-core<0.3.0,>=0.2.26->langchain_groq) (24.1)\n",
            "Requirement already satisfied: orjson<4.0.0,>=3.9.14 in /usr/local/lib/python3.10/dist-packages (from langsmith<0.2.0,>=0.1.0->langchain_community) (3.10.7)\n",
            "Requirement already satisfied: charset-normalizer<4,>=2 in /usr/local/lib/python3.10/dist-packages (from requests<3,>=2->langchain_community) (3.3.2)\n",
            "Requirement already satisfied: idna<4,>=2.5 in /usr/local/lib/python3.10/dist-packages (from requests<3,>=2->langchain_community) (3.7)\n",
            "Requirement already satisfied: urllib3<3,>=1.21.1 in /usr/local/lib/python3.10/dist-packages (from requests<3,>=2->langchain_community) (2.0.7)\n",
            "Requirement already satisfied: certifi>=2017.4.17 in /usr/local/lib/python3.10/dist-packages (from requests<3,>=2->langchain_community) (2024.7.4)\n",
            "Requirement already satisfied: greenlet!=0.4.17 in /usr/local/lib/python3.10/dist-packages (from SQLAlchemy<3,>=1.4->langchain_community) (3.0.3)\n",
            "Requirement already satisfied: exceptiongroup in /usr/local/lib/python3.10/dist-packages (from anyio<5,>=3.5.0->groq<1,>=0.4.1->langchain_groq) (1.2.2)\n",
            "Requirement already satisfied: httpcore==1.* in /usr/local/lib/python3.10/dist-packages (from httpx<1,>=0.23.0->groq<1,>=0.4.1->langchain_groq) (1.0.5)\n",
            "Requirement already satisfied: h11<0.15,>=0.13 in /usr/local/lib/python3.10/dist-packages (from httpcore==1.*->httpx<1,>=0.23.0->groq<1,>=0.4.1->langchain_groq) (0.14.0)\n",
            "Requirement already satisfied: jsonpointer>=1.9 in /usr/local/lib/python3.10/dist-packages (from jsonpatch<2.0,>=1.33->langchain-core<0.3.0,>=0.2.26->langchain_groq) (3.0.0)\n",
            "Requirement already satisfied: annotated-types>=0.4.0 in /usr/local/lib/python3.10/dist-packages (from pydantic<3,>=1.9.0->groq<1,>=0.4.1->langchain_groq) (0.7.0)\n",
            "Requirement already satisfied: pydantic-core==2.20.1 in /usr/local/lib/python3.10/dist-packages (from pydantic<3,>=1.9.0->groq<1,>=0.4.1->langchain_groq) (2.20.1)\n",
            "Collecting mypy-extensions>=0.3.0 (from typing-inspect<1,>=0.4.0->dataclasses-json<0.7,>=0.5.7->langchain_community)\n",
            "  Downloading mypy_extensions-1.0.0-py3-none-any.whl.metadata (1.1 kB)\n",
            "Downloading langchain_groq-0.1.9-py3-none-any.whl (14 kB)\n",
            "Downloading langchain_community-0.2.12-py3-none-any.whl (2.3 MB)\n",
            "\u001b[2K   \u001b[90m━━━━━━━━━━━━━━━━━━━━━━━━━━━━━━━━━━━━━━━━\u001b[0m \u001b[32m2.3/2.3 MB\u001b[0m \u001b[31m33.7 MB/s\u001b[0m eta \u001b[36m0:00:00\u001b[0m\n",
            "\u001b[?25hDownloading dataclasses_json-0.6.7-py3-none-any.whl (28 kB)\n",
            "Downloading groq-0.9.0-py3-none-any.whl (103 kB)\n",
            "\u001b[2K   \u001b[90m━━━━━━━━━━━━━━━━━━━━━━━━━━━━━━━━━━━━━━━━\u001b[0m \u001b[32m103.5/103.5 kB\u001b[0m \u001b[31m7.0 MB/s\u001b[0m eta \u001b[36m0:00:00\u001b[0m\n",
            "\u001b[?25hDownloading langchain-0.2.14-py3-none-any.whl (997 kB)\n",
            "\u001b[2K   \u001b[90m━━━━━━━━━━━━━━━━━━━━━━━━━━━━━━━━━━━━━━━━\u001b[0m \u001b[32m997.8/997.8 kB\u001b[0m \u001b[31m36.4 MB/s\u001b[0m eta \u001b[36m0:00:00\u001b[0m\n",
            "\u001b[?25hDownloading langchain_text_splitters-0.2.2-py3-none-any.whl (25 kB)\n",
            "Downloading marshmallow-3.22.0-py3-none-any.whl (49 kB)\n",
            "\u001b[2K   \u001b[90m━━━━━━━━━━━━━━━━━━━━━━━━━━━━━━━━━━━━━━━━\u001b[0m \u001b[32m49.3/49.3 kB\u001b[0m \u001b[31m3.2 MB/s\u001b[0m eta \u001b[36m0:00:00\u001b[0m\n",
            "\u001b[?25hDownloading typing_inspect-0.9.0-py3-none-any.whl (8.8 kB)\n",
            "Downloading mypy_extensions-1.0.0-py3-none-any.whl (4.7 kB)\n",
            "Installing collected packages: mypy-extensions, marshmallow, typing-inspect, groq, dataclasses-json, langchain-text-splitters, langchain_groq, langchain, langchain_community\n",
            "Successfully installed dataclasses-json-0.6.7 groq-0.9.0 langchain-0.2.14 langchain-text-splitters-0.2.2 langchain_community-0.2.12 langchain_groq-0.1.9 marshmallow-3.22.0 mypy-extensions-1.0.0 typing-inspect-0.9.0\n"
          ]
        }
      ]
    },
    {
      "cell_type": "code",
      "source": [
        "from google.colab import userdata\n",
        "groq = userdata.get('Groq')"
      ],
      "metadata": {
        "id": "aGHvTlw2tyEG"
      },
      "execution_count": 8,
      "outputs": []
    },
    {
      "cell_type": "code",
      "source": [
        "from google.colab import userdata\n",
        "langsmith = userdata.get('Langsmith')"
      ],
      "metadata": {
        "id": "lIPtpeoAuvaT"
      },
      "execution_count": 9,
      "outputs": []
    },
    {
      "cell_type": "code",
      "source": [
        "import os\n",
        "os.environ[\"Langsmith\"] = langsmith\n",
        "os.environ[\"LANGCHAIN_TRACING_V2\"]= \"true\"\n",
        "os.environ[\"LANGCHAIN_PROJECT\"] = \"CourseLanggraph\""
      ],
      "metadata": {
        "id": "QXFS5nFovq7J"
      },
      "execution_count": 11,
      "outputs": []
    },
    {
      "cell_type": "code",
      "source": [
        "from langchain_groq import ChatGroq"
      ],
      "metadata": {
        "id": "LxuEET63wOP-"
      },
      "execution_count": 12,
      "outputs": []
    },
    {
      "cell_type": "code",
      "source": [
        "llm = ChatGroq(groq_api_key=groq,model_name=\"Gemma2-9b-it\")"
      ],
      "metadata": {
        "id": "7n9lqhnPwoxv"
      },
      "execution_count": 14,
      "outputs": []
    },
    {
      "cell_type": "code",
      "source": [
        "llm"
      ],
      "metadata": {
        "colab": {
          "base_uri": "https://localhost:8080/"
        },
        "id": "bg5P-mNTxGpB",
        "outputId": "4dfe109b-2e4e-477b-d887-1e85d89375ae"
      },
      "execution_count": 15,
      "outputs": [
        {
          "output_type": "execute_result",
          "data": {
            "text/plain": [
              "ChatGroq(client=<groq.resources.chat.completions.Completions object at 0x7a0403c155a0>, async_client=<groq.resources.chat.completions.AsyncCompletions object at 0x7a0403c16260>, model_name='Gemma2-9b-it', groq_api_key=SecretStr('**********'))"
            ]
          },
          "metadata": {},
          "execution_count": 15
        }
      ]
    },
    {
      "cell_type": "code",
      "source": [
        "## start building chatbot using langgraph"
      ],
      "metadata": {
        "id": "1w5hmLZkxRJs"
      },
      "execution_count": 17,
      "outputs": []
    },
    {
      "cell_type": "code",
      "source": [
        "from typing import Annotated\n",
        "from typing_extensions import TypedDict\n",
        "from langgraph.graph import StateGraph, START, END\n",
        "from langgraph.graph.message import add_messages"
      ],
      "metadata": {
        "id": "LETDA648xUxS"
      },
      "execution_count": 18,
      "outputs": []
    },
    {
      "cell_type": "code",
      "source": [
        "class State(TypedDict):\n",
        "  messages:Annotated[list,add_messages]\n",
        "\n",
        "graph_builder=StateGraph(State)"
      ],
      "metadata": {
        "id": "ldlKSERP0STm"
      },
      "execution_count": 22,
      "outputs": []
    },
    {
      "cell_type": "code",
      "source": [
        "graph_builder"
      ],
      "metadata": {
        "colab": {
          "base_uri": "https://localhost:8080/"
        },
        "id": "vqIMzu000azu",
        "outputId": "2f00a2ca-3445-4758-9d62-800f378612b9"
      },
      "execution_count": 23,
      "outputs": [
        {
          "output_type": "execute_result",
          "data": {
            "text/plain": [
              "<langgraph.graph.state.StateGraph at 0x7a0403c16860>"
            ]
          },
          "metadata": {},
          "execution_count": 23
        }
      ]
    },
    {
      "cell_type": "code",
      "source": [
        "def chatbot(state:State):\n",
        "  return{\"messages\":llm.invoke(state['messages'])}"
      ],
      "metadata": {
        "id": "SEHb5G7n05RR"
      },
      "execution_count": 24,
      "outputs": []
    },
    {
      "cell_type": "code",
      "source": [
        "graph_builder.add_node(\"chatbot\",chatbot)"
      ],
      "metadata": {
        "id": "3GV949Wg1Or3"
      },
      "execution_count": 25,
      "outputs": []
    },
    {
      "cell_type": "code",
      "source": [
        "graph_builder"
      ],
      "metadata": {
        "colab": {
          "base_uri": "https://localhost:8080/"
        },
        "id": "sWZLJqBe1U6z",
        "outputId": "675f72d2-767d-447f-af9b-1964381d93cb"
      },
      "execution_count": 26,
      "outputs": [
        {
          "output_type": "execute_result",
          "data": {
            "text/plain": [
              "<langgraph.graph.state.StateGraph at 0x7a0403c16860>"
            ]
          },
          "metadata": {},
          "execution_count": 26
        }
      ]
    },
    {
      "cell_type": "code",
      "source": [
        "graph_builder.add_edge(START,\"chatbot\")\n",
        "graph_builder.add_edge(\"chatbot\",END)"
      ],
      "metadata": {
        "id": "ReId4NCK1W6P"
      },
      "execution_count": 27,
      "outputs": []
    },
    {
      "cell_type": "code",
      "source": [
        "graph =graph_builder.compile()"
      ],
      "metadata": {
        "id": "xaStI9BY1rQ5"
      },
      "execution_count": 28,
      "outputs": []
    },
    {
      "cell_type": "code",
      "source": [
        "from IPython.display import Image, display\n",
        "try:\n",
        "  display(Image(graph.get_graph().draw_mermaid_png()))\n",
        "except Exception:\n",
        "  pass"
      ],
      "metadata": {
        "colab": {
          "base_uri": "https://localhost:8080/",
          "height": 236
        },
        "id": "t7AK_Dr91yGx",
        "outputId": "a4d9c233-3545-4c13-96d3-a7a98c8aa1ab"
      },
      "execution_count": 30,
      "outputs": [
        {
          "output_type": "display_data",
          "data": {
            "image/jpeg": "[encoded data removed]",
            "text/plain": [
              "<IPython.core.display.Image object>"
            ]
          },
          "metadata": {}
        }
      ]
    },
    {
      "cell_type": "code",
      "source": [
        "while True:\n",
        "  user_input=input(\"user:\")\n",
        "  if user_input.lower() in [\"quit\",\"q\"]:\n",
        "    print(\"Good Bye\")\n",
        "    break\n",
        "  for event in graph.stream({'messages':(\"user\",user_input)}):\n",
        "    print(event.values())\n",
        "    for value in event.values():\n",
        "      print(value['messages'])\n",
        "      print(\"Assistant:\",value[\"messages\"].content)"
      ],
      "metadata": {
        "colab": {
          "base_uri": "https://localhost:8080/"
        },
        "id": "x-aN7hyq2LT-",
        "outputId": "3a66280b-a7d9-419b-d422-160007ef321b"
      },
      "execution_count": null,
      "outputs": [
        {
          "name": "stdout",
          "output_type": "stream",
          "text": [
            "user:hello\n"
          ]
        },
        {
          "output_type": "stream",
          "name": "stderr",
          "text": [
            "WARNING:langchain_core.callbacks.manager:Unable to load requested LangChainTracer. To disable this warning, unset the LANGCHAIN_TRACING_V2 environment variables.\n",
            "LangSmithUserError('API key must be provided when using hosted LangSmith API')\n",
            "WARNING:langchain_core.callbacks.manager:Unable to load requested LangChainTracer. To disable this warning, unset the LANGCHAIN_TRACING_V2 environment variables.\n",
            "LangSmithUserError('API key must be provided when using hosted LangSmith API')\n",
            "WARNING:langchain_core.callbacks.manager:Unable to load requested LangChainTracer. To disable this warning, unset the LANGCHAIN_TRACING_V2 environment variables.\n",
            "LangSmithUserError('API key must be provided when using hosted LangSmith API')\n",
            "WARNING:langchain_core.callbacks.manager:Unable to load requested LangChainTracer. To disable this warning, unset the LANGCHAIN_TRACING_V2 environment variables.\n",
            "LangSmithUserError('API key must be provided when using hosted LangSmith API')\n",
            "WARNING:langchain_core.callbacks.manager:Unable to load requested LangChainTracer. To disable this warning, unset the LANGCHAIN_TRACING_V2 environment variables.\n",
            "LangSmithUserError('API key must be provided when using hosted LangSmith API')\n"
          ]
        },
        {
          "name": "stdout",
          "output_type": "stream",
          "text": [
            "dict_values([{'messages': AIMessage(content='Hello! 👋 \\n\\nWhat can I do for you today? 😊\\n', response_metadata={'token_usage': {'completion_tokens': 17, 'prompt_tokens': 15, 'total_tokens': 32, 'completion_time': 0.032930963, 'prompt_time': 0.002325139, 'queue_time': None, 'total_time': 0.035256102}, 'model_name': 'Gemma2-9b-it', 'system_fingerprint': 'fp_10c08bf97d', 'finish_reason': 'stop', 'logprobs': None}, id='run-12c37031-2d49-4480-90a8-4df281c9ec08-0', usage_metadata={'input_tokens': 15, 'output_tokens': 17, 'total_tokens': 32})}])\n",
            "content='Hello! 👋 \\n\\nWhat can I do for you today? 😊\\n' response_metadata={'token_usage': {'completion_tokens': 17, 'prompt_tokens': 15, 'total_tokens': 32, 'completion_time': 0.032930963, 'prompt_time': 0.002325139, 'queue_time': None, 'total_time': 0.035256102}, 'model_name': 'Gemma2-9b-it', 'system_fingerprint': 'fp_10c08bf97d', 'finish_reason': 'stop', 'logprobs': None} id='run-12c37031-2d49-4480-90a8-4df281c9ec08-0' usage_metadata={'input_tokens': 15, 'output_tokens': 17, 'total_tokens': 32}\n",
            "Assistant: Hello! 👋 \n",
            "\n",
            "What can I do for you today? 😊\n",
            "\n",
            "user:what is gen ai\n"
          ]
        },
        {
          "output_type": "stream",
          "name": "stderr",
          "text": [
            "WARNING:langchain_core.callbacks.manager:Unable to load requested LangChainTracer. To disable this warning, unset the LANGCHAIN_TRACING_V2 environment variables.\n",
            "LangSmithUserError('API key must be provided when using hosted LangSmith API')\n",
            "WARNING:langchain_core.callbacks.manager:Unable to load requested LangChainTracer. To disable this warning, unset the LANGCHAIN_TRACING_V2 environment variables.\n",
            "LangSmithUserError('API key must be provided when using hosted LangSmith API')\n",
            "WARNING:langchain_core.callbacks.manager:Unable to load requested LangChainTracer. To disable this warning, unset the LANGCHAIN_TRACING_V2 environment variables.\n",
            "LangSmithUserError('API key must be provided when using hosted LangSmith API')\n",
            "WARNING:langchain_core.callbacks.manager:Unable to load requested LangChainTracer. To disable this warning, unset the LANGCHAIN_TRACING_V2 environment variables.\n",
            "LangSmithUserError('API key must be provided when using hosted LangSmith API')\n",
            "WARNING:langchain_core.callbacks.manager:Unable to load requested LangChainTracer. To disable this warning, unset the LANGCHAIN_TRACING_V2 environment variables.\n",
            "LangSmithUserError('API key must be provided when using hosted LangSmith API')\n"
          ]
        },
        {
          "name": "stdout",
          "output_type": "stream",
          "text": [
            "dict_values([{'messages': AIMessage(content=\"##  Gen AI: The Creative Spark of Artificial Intelligence\\n\\nGen AI, short for **Generative Artificial Intelligence**, is a fascinating branch of AI focused on **creating new content**. Think of it as the artistic side of AI, capable of producing original text, images, audio, video, code, and even 3D models. \\n\\nHere's a breakdown:\\n\\n**How it works:**\\n\\nGen AI models are trained on massive datasets of existing content. This allows them to learn patterns, structures, and styles within that data. \\n\\nThen, when given a prompt or set of instructions, they use this learned knowledge to generate something entirely new, while staying within the learned style and context.\\n\\n**Examples of Gen AI in action:**\\n\\n* **Text Generation:** Chatbots like me, writing stories, poems, articles, and even code.\\n* **Image Generation:** Creating realistic images from text descriptions (think DALL-E 2 or Midjourney), designing logos, or generating art.\\n* **Audio Generation:** Composing music, generating voiceovers, or even mimicking someone's voice.\\n* **Video Generation:** Creating short videos, animating characters, or generating special effects.\\n\\n**The Potential:**\\n\\nGen AI has the potential to revolutionize many industries:\\n\\n* **Creative Industries:** Empowering artists, writers, and musicians with new tools for expression.\\n* **Marketing & Advertising:** Generating personalized content, creating eye-catching visuals, and automating marketing tasks.\\n* **Education:** Providing interactive learning experiences, generating personalized study materials, and assisting with research.\\n* **Healthcare:** Assisting in drug discovery, generating medical images, and providing personalized patient care.\\n\\n**The Challenges:**\\n\\nWhile promising, Gen AI also presents challenges:\\n\\n* **Bias and Fairness:** Models can inherit biases from the data they are trained on, leading to unfair or discriminatory outputs.\\n* **Misinformation and Malicious Use:** Gen AI can be used to create convincing fake news, deepfakes, and other harmful content.\\n* **Copyright and Intellectual Property:** Questions remain about ownership and copyright of content generated by AI.\\n\\n**The Future:**\\n\\nGen AI is rapidly evolving, with new models and applications emerging constantly. It's a powerful technology with the potential to shape our world in profound ways, but it's crucial to address the ethical and societal implications carefully.\\n\", response_metadata={'token_usage': {'completion_tokens': 489, 'prompt_tokens': 18, 'total_tokens': 507, 'completion_time': 1.012367475, 'prompt_time': 0.002886366, 'queue_time': None, 'total_time': 1.015253841}, 'model_name': 'Gemma2-9b-it', 'system_fingerprint': 'fp_10c08bf97d', 'finish_reason': 'stop', 'logprobs': None}, id='run-c102fb65-79b6-4ad9-8b7d-eac0038aeb6c-0', usage_metadata={'input_tokens': 18, 'output_tokens': 489, 'total_tokens': 507})}])\n",
            "content=\"##  Gen AI: The Creative Spark of Artificial Intelligence\\n\\nGen AI, short for **Generative Artificial Intelligence**, is a fascinating branch of AI focused on **creating new content**. Think of it as the artistic side of AI, capable of producing original text, images, audio, video, code, and even 3D models. \\n\\nHere's a breakdown:\\n\\n**How it works:**\\n\\nGen AI models are trained on massive datasets of existing content. This allows them to learn patterns, structures, and styles within that data. \\n\\nThen, when given a prompt or set of instructions, they use this learned knowledge to generate something entirely new, while staying within the learned style and context.\\n\\n**Examples of Gen AI in action:**\\n\\n* **Text Generation:** Chatbots like me, writing stories, poems, articles, and even code.\\n* **Image Generation:** Creating realistic images from text descriptions (think DALL-E 2 or Midjourney), designing logos, or generating art.\\n* **Audio Generation:** Composing music, generating voiceovers, or even mimicking someone's voice.\\n* **Video Generation:** Creating short videos, animating characters, or generating special effects.\\n\\n**The Potential:**\\n\\nGen AI has the potential to revolutionize many industries:\\n\\n* **Creative Industries:** Empowering artists, writers, and musicians with new tools for expression.\\n* **Marketing & Advertising:** Generating personalized content, creating eye-catching visuals, and automating marketing tasks.\\n* **Education:** Providing interactive learning experiences, generating personalized study materials, and assisting with research.\\n* **Healthcare:** Assisting in drug discovery, generating medical images, and providing personalized patient care.\\n\\n**The Challenges:**\\n\\nWhile promising, Gen AI also presents challenges:\\n\\n* **Bias and Fairness:** Models can inherit biases from the data they are trained on, leading to unfair or discriminatory outputs.\\n* **Misinformation and Malicious Use:** Gen AI can be used to create convincing fake news, deepfakes, and other harmful content.\\n* **Copyright and Intellectual Property:** Questions remain about ownership and copyright of content generated by AI.\\n\\n**The Future:**\\n\\nGen AI is rapidly evolving, with new models and applications emerging constantly. It's a powerful technology with the potential to shape our world in profound ways, but it's crucial to address the ethical and societal implications carefully.\\n\" response_metadata={'token_usage': {'completion_tokens': 489, 'prompt_tokens': 18, 'total_tokens': 507, 'completion_time': 1.012367475, 'prompt_time': 0.002886366, 'queue_time': None, 'total_time': 1.015253841}, 'model_name': 'Gemma2-9b-it', 'system_fingerprint': 'fp_10c08bf97d', 'finish_reason': 'stop', 'logprobs': None} id='run-c102fb65-79b6-4ad9-8b7d-eac0038aeb6c-0' usage_metadata={'input_tokens': 18, 'output_tokens': 489, 'total_tokens': 507}\n",
            "Assistant: ##  Gen AI: The Creative Spark of Artificial Intelligence\n",
            "\n",
            "Gen AI, short for **Generative Artificial Intelligence**, is a fascinating branch of AI focused on **creating new content**. Think of it as the artistic side of AI, capable of producing original text, images, audio, video, code, and even 3D models. \n",
            "\n",
            "Here's a breakdown:\n",
            "\n",
            "**How it works:**\n",
            "\n",
            "Gen AI models are trained on massive datasets of existing content. This allows them to learn patterns, structures, and styles within that data. \n",
            "\n",
            "Then, when given a prompt or set of instructions, they use this learned knowledge to generate something entirely new, while staying within the learned style and context.\n",
            "\n",
            "**Examples of Gen AI in action:**\n",
            "\n",
            "* **Text Generation:** Chatbots like me, writing stories, poems, articles, and even code.\n",
            "* **Image Generation:** Creating realistic images from text descriptions (think DALL-E 2 or Midjourney), designing logos, or generating art.\n",
            "* **Audio Generation:** Composing music, generating voiceovers, or even mimicking someone's voice.\n",
            "* **Video Generation:** Creating short videos, animating characters, or generating special effects.\n",
            "\n",
            "**The Potential:**\n",
            "\n",
            "Gen AI has the potential to revolutionize many industries:\n",
            "\n",
            "* **Creative Industries:** Empowering artists, writers, and musicians with new tools for expression.\n",
            "* **Marketing & Advertising:** Generating personalized content, creating eye-catching visuals, and automating marketing tasks.\n",
            "* **Education:** Providing interactive learning experiences, generating personalized study materials, and assisting with research.\n",
            "* **Healthcare:** Assisting in drug discovery, generating medical images, and providing personalized patient care.\n",
            "\n",
            "**The Challenges:**\n",
            "\n",
            "While promising, Gen AI also presents challenges:\n",
            "\n",
            "* **Bias and Fairness:** Models can inherit biases from the data they are trained on, leading to unfair or discriminatory outputs.\n",
            "* **Misinformation and Malicious Use:** Gen AI can be used to create convincing fake news, deepfakes, and other harmful content.\n",
            "* **Copyright and Intellectual Property:** Questions remain about ownership and copyright of content generated by AI.\n",
            "\n",
            "**The Future:**\n",
            "\n",
            "Gen AI is rapidly evolving, with new models and applications emerging constantly. It's a powerful technology with the potential to shape our world in profound ways, but it's crucial to address the ethical and societal implications carefully.\n",
            "\n",
            "user:search for joshna seelam\n"
          ]
        },
        {
          "output_type": "stream",
          "name": "stderr",
          "text": [
            "WARNING:langchain_core.callbacks.manager:Unable to load requested LangChainTracer. To disable this warning, unset the LANGCHAIN_TRACING_V2 environment variables.\n",
            "LangSmithUserError('API key must be provided when using hosted LangSmith API')\n",
            "WARNING:langchain_core.callbacks.manager:Unable to load requested LangChainTracer. To disable this warning, unset the LANGCHAIN_TRACING_V2 environment variables.\n",
            "LangSmithUserError('API key must be provided when using hosted LangSmith API')\n",
            "WARNING:langchain_core.callbacks.manager:Unable to load requested LangChainTracer. To disable this warning, unset the LANGCHAIN_TRACING_V2 environment variables.\n",
            "LangSmithUserError('API key must be provided when using hosted LangSmith API')\n",
            "WARNING:langchain_core.callbacks.manager:Unable to load requested LangChainTracer. To disable this warning, unset the LANGCHAIN_TRACING_V2 environment variables.\n",
            "LangSmithUserError('API key must be provided when using hosted LangSmith API')\n",
            "WARNING:langchain_core.callbacks.manager:Unable to load requested LangChainTracer. To disable this warning, unset the LANGCHAIN_TRACING_V2 environment variables.\n",
            "LangSmithUserError('API key must be provided when using hosted LangSmith API')\n"
          ]
        },
        {
          "output_type": "stream",
          "name": "stdout",
          "text": [
            "dict_values([{'messages': AIMessage(content='I do not have access to real-time information, including personal details about individuals like Joshna Seelam. \\n\\nTo find information about this person, I recommend using a search engine like Google. You can also try searching on social media platforms like LinkedIn, Facebook, or Twitter. \\n\\n', response_metadata={'token_usage': {'completion_tokens': 62, 'prompt_tokens': 21, 'total_tokens': 83, 'completion_time': 0.126543332, 'prompt_time': 0.002380709, 'queue_time': None, 'total_time': 0.12892404100000002}, 'model_name': 'Gemma2-9b-it', 'system_fingerprint': 'fp_10c08bf97d', 'finish_reason': 'stop', 'logprobs': None}, id='run-c020dfff-57f5-44eb-8e0e-06c61e45c632-0', usage_metadata={'input_tokens': 21, 'output_tokens': 62, 'total_tokens': 83})}])\n",
            "content='I do not have access to real-time information, including personal details about individuals like Joshna Seelam. \\n\\nTo find information about this person, I recommend using a search engine like Google. You can also try searching on social media platforms like LinkedIn, Facebook, or Twitter. \\n\\n' response_metadata={'token_usage': {'completion_tokens': 62, 'prompt_tokens': 21, 'total_tokens': 83, 'completion_time': 0.126543332, 'prompt_time': 0.002380709, 'queue_time': None, 'total_time': 0.12892404100000002}, 'model_name': 'Gemma2-9b-it', 'system_fingerprint': 'fp_10c08bf97d', 'finish_reason': 'stop', 'logprobs': None} id='run-c020dfff-57f5-44eb-8e0e-06c61e45c632-0' usage_metadata={'input_tokens': 21, 'output_tokens': 62, 'total_tokens': 83}\n",
            "Assistant: I do not have access to real-time information, including personal details about individuals like Joshna Seelam. \n",
            "\n",
            "To find information about this person, I recommend using a search engine like Google. You can also try searching on social media platforms like LinkedIn, Facebook, or Twitter. \n",
            "\n",
            "\n"
          ]
        }
      ]
    },
    {
      "cell_type": "code",
      "source": [],
      "metadata": {
        "id": "lz-PT55R3M85"
      },
      "execution_count": null,
      "outputs": []
    }
  ]
}